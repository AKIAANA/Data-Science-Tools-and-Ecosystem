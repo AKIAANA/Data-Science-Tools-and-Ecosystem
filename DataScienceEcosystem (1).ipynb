{
 "cells": [
  {
   "cell_type": "markdown",
   "id": "ed52143a",
   "metadata": {},
   "source": [
    "# Data Science Tools and Ecosystem"
   ]
  },
  {
   "cell_type": "markdown",
   "id": "7e5c5819",
   "metadata": {},
   "source": [
    "In this notebook, Data Science Tools and Ecosystem are summarized."
   ]
  },
  {
   "cell_type": "markdown",
   "id": "747fffbc",
   "metadata": {},
   "source": [
    "Welcome to this comprehensive notebook where we delve into the fascinating world of Data Science Tools and Ecosystem.\n",
    "\n",
    "In the era of big data, analytics, and artificial intelligence, understanding the tools that power the data science landscape is essential. This notebook serves as your guide, providing a condensed overview of the diverse array of tools and the thriving ecosystem that enables data scientists to extract valuable insights from data."
   ]
  },
  {
   "cell_type": "markdown",
   "id": "e8897544",
   "metadata": {},
   "source": [
    "Below are the list of data science languages (ordered)\n",
    "\n",
    "1.Python\n",
    "2.R\n",
    "3.SQL (Structured Query Language)\n",
    "4.Julia\n",
    "5.Scala\n",
    "6.Java\n",
    "\n",
    "Please note that the choice of language depends on the specific requirements of the task, the preferences of the data scientist, and the existing tools and frameworks in use within an organization.\n",
    "\n"
   ]
  },
  {
   "cell_type": "markdown",
   "id": "cc28a14a",
   "metadata": {},
   "source": [
    "Some of the commonly used libraries used by Data Scientists include:\n",
    "\n",
    "Here's a list of commonly used libraries by data scientists in various programming languages, primarily focused on Python\n",
    "\n",
    "Python Libraries:\n",
    "NumPy,Pandas,Matplotlib,Seaborn,scikit-learn,,TensorFlow,PyTorch,SciPy,NLTK (Natural Language Toolkit),Statsmodels\n",
    "\n",
    "These libraries form the backbone of data science projects, offering powerful tools and functionalities for various tasks such as data manipulation, analysis, visualization, and machine learning. The choice of libraries often depends on the specific requirements of the data science project at hand"
   ]
  },
  {
   "cell_type": "markdown",
   "id": "592c76a3",
   "metadata": {},
   "source": [
    "# Data Science Tools\n",
    "\n",
    "| Data Science Tools       |\n",
    "| ------------------------ |\n",
    "| Jupyter Notebooks        |\n",
    "| RStudio                  |\n",
    "| VS Code with extensions  |"
   ]
  },
  {
   "cell_type": "code",
   "execution_count": null,
   "id": "969fcd76",
   "metadata": {},
   "outputs": [],
   "source": [
    "# Introduction to Arithmetic Expression Examples\n",
    "\n",
    "Arithmetic expressions in programming involve fundamental mathematical operations. In Python, these expressions use standard arithmetic operators to perform tasks like addition, subtraction, multiplication, division, and more.\n",
    "\n",
    "Let's explore some examples of arithmetic expressions:\n",
    "\n",
    "1. **Addition (`+`)**: Adds two values.\n",
    "2. **Subtraction (`-`)**: Subtracts the right operand from the left operand.\n",
    "3. **Multiplication (`*`)**: Multiplies two values.\n",
    "4. **Division (`/`)**: Divides the left operand by the right operand.\n",
    "5. **Floor Division (`//`)**: Divides and rounds down to the nearest integer.\n",
    "6. **Modulus (`%`)**: Returns the remainder of the division.\n",
    "7. **Exponentiation (`**`)**: Raises the left operand to the power of the right operand.\n",
    "\n",
    "### Examples of Arithmetic Expressions\n",
    "\n",
    "Now, let's see these operators in action:\n",
    "\n",
    "```python\n",
    "result_addition = 10 + 5\n",
    "result_subtraction = 10 - 5\n",
    "result_multiplication = 10 * 5\n",
    "result_division = 10 / 5\n",
    "result_floor_division = 10 // 3\n",
    "result_modulus = 10 % 3\n",
    "result_exponentiation = 2 ** 3\n"
   ]
  },
  {
   "cell_type": "code",
   "execution_count": 3,
   "id": "210d4c21",
   "metadata": {},
   "outputs": [
    {
     "name": "stdout",
     "output_type": "stream",
     "text": [
      "17\n"
     ]
    }
   ],
   "source": [
    "# This is a simple arithmetic expression to multiply then add integers.\n",
    "result = (3 * 4) + 5\n",
    "\n",
    "# Print the result to verify the output\n",
    "print(result)"
   ]
  },
  {
   "cell_type": "code",
   "execution_count": 4,
   "id": "ed9e721c",
   "metadata": {},
   "outputs": [
    {
     "name": "stdout",
     "output_type": "stream",
     "text": [
      "3.3333333333333335\n"
     ]
    }
   ],
   "source": [
    "# This will convert 200 minutes to hours by dividing by 60.\n",
    "minutes = 200\n",
    "hours = minutes / 60\n",
    "\n",
    "# Print the result to verify the output\n",
    "print(hours)"
   ]
  },
  {
   "cell_type": "markdown",
   "id": "9b15f9db",
   "metadata": {},
   "source": [
    "# Objectives\n",
    "\n",
    "**Objectives:**\n",
    "\n",
    "- Explore and understand fundamental arithmetic expressions in Python.\n",
    "- Introduce key Python libraries commonly used in data science.\n",
    "- Create and execute basic arithmetic expressions in a code cell.\n",
    "- Demonstrate the use of Markdown cells to format and document code.\n",
    "- Provide an overview of popular languages and libraries used in data science.\n"
   ]
  },
  {
   "cell_type": "markdown",
   "id": "f472b05b",
   "metadata": {},
   "source": [
    "## Author\n",
    "\n",
    "Author: [Aanu Akinola]\n"
   ]
  },
  {
   "cell_type": "code",
   "execution_count": null,
   "id": "d24dfda1",
   "metadata": {},
   "outputs": [],
   "source": []
  }
 ],
 "metadata": {
  "kernelspec": {
   "display_name": "Python 3 (ipykernel)",
   "language": "python",
   "name": "python3"
  },
  "language_info": {
   "codemirror_mode": {
    "name": "ipython",
    "version": 3
   },
   "file_extension": ".py",
   "mimetype": "text/x-python",
   "name": "python",
   "nbconvert_exporter": "python",
   "pygments_lexer": "ipython3",
   "version": "3.11.5"
  }
 },
 "nbformat": 4,
 "nbformat_minor": 5
}
